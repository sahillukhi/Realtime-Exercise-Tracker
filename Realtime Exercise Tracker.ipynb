{
 "cells": [
  {
   "cell_type": "code",
   "execution_count": 2,
   "id": "92c76b34",
   "metadata": {},
   "outputs": [],
   "source": [
    "#!pip install mediapipe\n",
    "#!pip install opencv-python"
   ]
  },
  {
   "cell_type": "code",
   "execution_count": 67,
   "id": "379005fb",
   "metadata": {},
   "outputs": [],
   "source": [
    "import cv2\n",
    "import mediapipe as mp\n",
    "import numpy as np\n",
    "mp_drawing = mp.solutions.drawing_utils\n",
    "mp_pose = mp.solutions.pose\n",
    "from IPython.display import Image\n",
    "import pandas as pd"
   ]
  },
  {
   "cell_type": "code",
   "execution_count": 37,
   "id": "1ca9edfc",
   "metadata": {},
   "outputs": [
    {
     "data": {
      "text/plain": [
       "[0, 1]"
      ]
     },
     "execution_count": 37,
     "metadata": {},
     "output_type": "execute_result"
    }
   ],
   "source": [
    "def find_connected_cameras():\n",
    "    connected_cameras = []\n",
    "    for i in range(10):\n",
    "        cap = cv2.VideoCapture(i)\n",
    "        if not cap.isOpened():\n",
    "            break\n",
    "        else:\n",
    "            connected_cameras.append(i)\n",
    "            cap.release()\n",
    "    return connected_cameras\n",
    "cameras = find_connected_cameras()\n",
    "cameras"
   ]
  },
  {
   "cell_type": "code",
   "execution_count": 69,
   "id": "56a76986",
   "metadata": {},
   "outputs": [
    {
     "name": "stderr",
     "output_type": "stream",
     "text": [
      "'[Image' is not recognized as an internal or external command,\n",
      "operable program or batch file.\n"
     ]
    },
    {
     "data": {
      "text/html": [
       "<img src=\"https://i.imgur.com/3j8BPdc.png\" height=\"300\"/>"
      ],
      "text/plain": [
       "<IPython.core.display.Image object>"
      ]
     },
     "execution_count": 69,
     "metadata": {},
     "output_type": "execute_result"
    }
   ],
   "source": [
    "![Image Description](https://i.imgur.com/3j8BPdc.png)\n",
    "Image(url='https://i.imgur.com/3j8BPdc.png', height=300)"
   ]
  },
  {
   "cell_type": "code",
   "execution_count": 145,
   "id": "1bae4a83",
   "metadata": {},
   "outputs": [],
   "source": [
    "def angle_calculator(a,b,c):\n",
    "    a = a.x,a.y\n",
    "    b = b.x,b.y\n",
    "    c = c.x,c.y\n",
    "    radians = np.arctan2(c[1]-b[1], c[0]-b[0]) - np.arctan2(a[1]-b[1], a[0]-b[0])\n",
    "    angle = np.abs(radians*180/np.pi)\n",
    "    if angle > 180.0:\n",
    "        angle = 360-angle\n",
    "        \n",
    "    return angle,b"
   ]
  },
  {
   "cell_type": "code",
   "execution_count": 271,
   "id": "ba44e923",
   "metadata": {},
   "outputs": [],
   "source": [
    "cap = cv2.VideoCapture(0)\n",
    "left_count = 0\n",
    "center_count = 0\n",
    "right_count = 0\n",
    "left_stage = None\n",
    "center_stage = None\n",
    "right_stage = None\n",
    "width = 1280\n",
    "height = 720\n",
    "with mp_pose.Pose(min_detection_confidence=0.5, min_tracking_confidence=0.5) as pose:\n",
    "    cap.set(cv2.CAP_PROP_FRAME_WIDTH, width)\n",
    "    cap.set(cv2.CAP_PROP_FRAME_HEIGHT, height)\n",
    "\n",
    "\n",
    "    while cap.isOpened():\n",
    "        ret, frame = cap.read()\n",
    "        cv2.imshow(\"Frame\", frame)\n",
    "        results = pose.process(frame)\n",
    "        frame.flags.writeable = True\n",
    "        \n",
    "        try:\n",
    "            landmarks = results.pose_landmarks.landmark\n",
    "            left_angle, left_elbow = angle_calculator(landmarks[11],landmarks[13],landmarks[15])\n",
    "            right_angle, right_elbow = angle_calculator(landmarks[12],landmarks[14],landmarks[16])\n",
    "            #left_hip_angle, left_hip = angle_calculator(landmarks[11],landmarks[23],landmarks[25])\n",
    "            #right_hip_angle, right_hip = angle_calculator(landmarks[12],landmarks[24],landmarks[26])            \n",
    "            left_shoulder_angle, left_shoulder = angle_calculator(landmarks[13],landmarks[11],landmarks[23])\n",
    "            right_shoulder_angle, right_shoulder = angle_calculator(landmarks[14],landmarks[12],landmarks[24])           \n",
    "            cv2.putText(frame, str(left_angle),tuple(np.multiply(left_elbow, [width,height]).astype(int)), cv2.FONT_HERSHEY_SIMPLEX, 0.5, (0,255, 0), 1, cv2.LINE_AA)\n",
    "            cv2.putText(frame, str(right_angle),tuple(np.multiply(right_elbow, [width,height]).astype(int)), cv2.FONT_HERSHEY_SIMPLEX, 0.5, (0,255, 0), 1, cv2.LINE_AA)\n",
    "            cv2.putText(frame, str(left_shoulder_angle),tuple(np.multiply(left_shoulder, [width,height]).astype(int)), cv2.FONT_HERSHEY_SIMPLEX, 0.5, (0,255, 0), 1, cv2.LINE_AA)\n",
    "            cv2.putText(frame, str(right_shoulder_angle),tuple(np.multiply(right_shoulder, [width,height]).astype(int)), cv2.FONT_HERSHEY_SIMPLEX, 0.5, (0,255, 0), 1, cv2.LINE_AA)\n",
    "            #cv2.putText(frame, str(left_hip_angle),tuple(np.multiply(left_hip, [width,height]).astype(int)), cv2.FONT_HERSHEY_SIMPLEX, 0.5, (0,255, 0), 1, cv2.LINE_AA)\n",
    "            #cv2.putText(frame, str(right_hip_angle),tuple(np.multiply(right_hip, [width,height]).astype(int)), cv2.FONT_HERSHEY_SIMPLEX, 0.5, (0,255, 0), 1, cv2.LINE_AA)\n",
    "        \n",
    "        \n",
    "            if left_shoulder_angle < 40:\n",
    "                if left_angle > 160:\n",
    "                    left_stage = 'Down'\n",
    "                if left_angle<30 and left_stage == 'Down':\n",
    "                    left_stage=\"Up\"\n",
    "                    left_count += 1\n",
    "            if right_shoulder_angle < 40:\n",
    "                if right_angle > 160:\n",
    "                    right_stage = 'Down'\n",
    "                if right_angle<30 and right_stage == 'Down':\n",
    "                    right_stage=\"Up\"\n",
    "                    right_count += 1\n",
    "                \n",
    "            if left_shoulder_angle < 30 and right_shoulder_angle < 30:\n",
    "                center_stage='Down'\n",
    "            if left_shoulder_angle > 160 and right_shoulder_angle > 160 and center_stage=='Down':\n",
    "                center_stage='Up'\n",
    "                center_count += 1\n",
    "            \n",
    "            cv2.rectangle(frame,(0,0),(230,85),(255,255,255),-1)\n",
    "            cv2.putText(frame,'Left Curl',(75,14), cv2.FONT_HERSHEY_SIMPLEX, 0.5, (255,0,0), 1, cv2.LINE_AA)\n",
    "            cv2.putText(frame,'Reps',(15,42), cv2.FONT_HERSHEY_SIMPLEX, 1, (0,0,255), 1, cv2.LINE_AA)\n",
    "            cv2.putText(frame, str(left_count),(15,77), cv2.FONT_HERSHEY_SIMPLEX, 1, (0,0,255), 1, cv2.LINE_AA)                                \n",
    "            cv2.putText(frame,'Position',(100,42), cv2.FONT_HERSHEY_SIMPLEX, 1, (0,255,0), 1, cv2.LINE_AA)\n",
    "            cv2.putText(frame, left_stage,(100,77), cv2.FONT_HERSHEY_SIMPLEX, 1, (0,255,0), 1, cv2.LINE_AA)        \n",
    "        \n",
    "            cv2.rectangle(frame,(1050,0),(1280,85),(255,255,255),-1)\n",
    "            cv2.putText(frame,'Right Curl',(1125,14), cv2.FONT_HERSHEY_SIMPLEX, 0.5, (255,0,0), 1, cv2.LINE_AA)\n",
    "            cv2.putText(frame,'Reps',(1065,42), cv2.FONT_HERSHEY_SIMPLEX, 1, (0,0,255), 1, cv2.LINE_AA)\n",
    "            cv2.putText(frame, str(right_count),(1065,77), cv2.FONT_HERSHEY_SIMPLEX, 1, (0,0,255), 1, cv2.LINE_AA)                                \n",
    "            cv2.putText(frame,'Position',(1150,42), cv2.FONT_HERSHEY_SIMPLEX, 1, (0,255,0), 1, cv2.LINE_AA)\n",
    "            cv2.putText(frame, right_stage,(1150,77), cv2.FONT_HERSHEY_SIMPLEX, 1, (0,255,0), 1, cv2.LINE_AA)\n",
    "            \n",
    "            cv2.rectangle(frame,(525,0),(755,85),(255,255,255),-1)\n",
    "            cv2.putText(frame,'Center',(600,14), cv2.FONT_HERSHEY_SIMPLEX, 0.5, (255,0,0), 1, cv2.LINE_AA)\n",
    "            cv2.putText(frame,'Reps',(540,42), cv2.FONT_HERSHEY_SIMPLEX, 1, (0,0,255), 1, cv2.LINE_AA)\n",
    "            cv2.putText(frame, str(center_count),(540,77), cv2.FONT_HERSHEY_SIMPLEX, 1, (0,0,255), 1, cv2.LINE_AA)                                \n",
    "            cv2.putText(frame,'Position',(625,42), cv2.FONT_HERSHEY_SIMPLEX, 1, (0,255,0), 1, cv2.LINE_AA)\n",
    "            cv2.putText(frame, center_stage,(625,77), cv2.FONT_HERSHEY_SIMPLEX, 1, (0,255,0), 1, cv2.LINE_AA)\n",
    "            \n",
    "            \n",
    "        except:\n",
    "            pass\n",
    "        \n",
    "        \n",
    "        mp_drawing.draw_landmarks(frame,results.pose_landmarks,mp_pose.POSE_CONNECTIONS,\n",
    "                                 mp_drawing.DrawingSpec(color=(255,255,255),thickness=1,circle_radius=1),\n",
    "                                  mp_drawing.DrawingSpec(color=(255,255,255),thickness=1,circle_radius=1)\n",
    "                                 )\n",
    "        cv2.imshow(\"Frame\", frame)\n",
    "        if cv2.waitKey(10) & 0xFF == ord('q'):\n",
    "            break\n",
    "        \n",
    "cap.release()\n",
    "cv2.destroyAllWindows()"
   ]
  },
  {
   "cell_type": "code",
   "execution_count": 269,
   "id": "dda042db",
   "metadata": {},
   "outputs": [
    {
     "data": {
      "text/plain": [
       "33"
      ]
     },
     "execution_count": 269,
     "metadata": {},
     "output_type": "execute_result"
    }
   ],
   "source": [
    "len(landmarks)"
   ]
  },
  {
   "cell_type": "code",
   "execution_count": 133,
   "id": "058656b8",
   "metadata": {},
   "outputs": [],
   "source": [
    "llist = []\n",
    "for i in mp_pose.PoseLandmark:\n",
    "    i = str(i)\n",
    "    llist.append(i.split('.')[1])"
   ]
  },
  {
   "cell_type": "markdown",
   "id": "e3959364",
   "metadata": {},
   "source": [
    "### NOW FOR LEFT HAND LET'S FIND ANGLE AND IT IS BETWEEN Landmark (11,13,15)"
   ]
  },
  {
   "cell_type": "code",
   "execution_count": 139,
   "id": "9a2d502e",
   "metadata": {},
   "outputs": [
    {
     "name": "stdout",
     "output_type": "stream",
     "text": [
      "LEFT_SHOULDER x: 0.7296022176742554\n",
      "y: 0.8091387152671814\n",
      "z: -0.08228478580713272\n",
      "visibility: 0.994053304195404\n",
      "\n",
      "LEFT_ELBOW x: 0.7729374170303345\n",
      "y: 1.1786272525787354\n",
      "z: -0.2805488407611847\n",
      "visibility: 0.4545603096485138\n",
      "\n",
      "LEFT_WRIST x: 0.7438985109329224\n",
      "y: 1.0512274503707886\n",
      "z: -0.8717184066772461\n",
      "visibility: 0.8629314303398132\n",
      "\n"
     ]
    }
   ],
   "source": [
    "print(llist[11],landmarks[11])\n",
    "print(llist[13],landmarks[13])\n",
    "print(llist[15],landmarks[15])"
   ]
  },
  {
   "cell_type": "code",
   "execution_count": 126,
   "id": "5d77ce64",
   "metadata": {},
   "outputs": [],
   "source": []
  },
  {
   "cell_type": "code",
   "execution_count": 147,
   "id": "d9283b8c",
   "metadata": {},
   "outputs": [],
   "source": [
    "a,b = angle_calculator(landmarks[11],landmarks[13],landmarks[15])"
   ]
  },
  {
   "cell_type": "code",
   "execution_count": 151,
   "id": "dd6cd165",
   "metadata": {},
   "outputs": [
    {
     "data": {
      "text/plain": [
       "(1159, 848)"
      ]
     },
     "execution_count": 151,
     "metadata": {},
     "output_type": "execute_result"
    }
   ],
   "source": [
    "tuple(np.multiply(b,[width,height]).astype(int))"
   ]
  },
  {
   "cell_type": "markdown",
   "id": "627b35b2",
   "metadata": {},
   "source": [
    "### NOW FOR RIGHT HAND LET'S FIND ANGLE AND IT IS BETWEEN Landmark (12,14,16)"
   ]
  },
  {
   "cell_type": "code",
   "execution_count": 140,
   "id": "653f7234",
   "metadata": {},
   "outputs": [
    {
     "name": "stdout",
     "output_type": "stream",
     "text": [
      "RIGHT_SHOULDER x: 0.4533967971801758\n",
      "y: 0.7605755925178528\n",
      "z: -0.5645679235458374\n",
      "visibility: 0.9970878958702087\n",
      "\n",
      "RIGHT_ELBOW x: 0.3735935688018799\n",
      "y: 1.1479250192642212\n",
      "z: -0.8871262669563293\n",
      "visibility: 0.6700240969657898\n",
      "\n",
      "RIGHT_WRIST x: 0.46911782026290894\n",
      "y: 1.2072503566741943\n",
      "z: -1.2502150535583496\n",
      "visibility: 0.7237216234207153\n",
      "\n"
     ]
    }
   ],
   "source": [
    "print(llist[12],landmarks[12])\n",
    "print(llist[14],landmarks[14])\n",
    "print(llist[16],landmarks[16])"
   ]
  },
  {
   "cell_type": "code",
   "execution_count": 144,
   "id": "749e0286",
   "metadata": {},
   "outputs": [
    {
     "data": {
      "text/plain": [
       "110.20093644285647"
      ]
     },
     "execution_count": 144,
     "metadata": {},
     "output_type": "execute_result"
    }
   ],
   "source": [
    "angle_calculator(landmarks[12],landmarks[14],landmarks[16])"
   ]
  },
  {
   "cell_type": "code",
   "execution_count": null,
   "id": "7d400619",
   "metadata": {},
   "outputs": [],
   "source": []
  }
 ],
 "metadata": {
  "kernelspec": {
   "display_name": "Python 3 (ipykernel)",
   "language": "python",
   "name": "python3"
  },
  "language_info": {
   "codemirror_mode": {
    "name": "ipython",
    "version": 3
   },
   "file_extension": ".py",
   "mimetype": "text/x-python",
   "name": "python",
   "nbconvert_exporter": "python",
   "pygments_lexer": "ipython3",
   "version": "3.8.10"
  },
  "toc": {
   "base_numbering": 1,
   "nav_menu": {},
   "number_sections": true,
   "sideBar": true,
   "skip_h1_title": false,
   "title_cell": "Table of Contents",
   "title_sidebar": "Contents",
   "toc_cell": false,
   "toc_position": {},
   "toc_section_display": true,
   "toc_window_display": false
  }
 },
 "nbformat": 4,
 "nbformat_minor": 5
}
